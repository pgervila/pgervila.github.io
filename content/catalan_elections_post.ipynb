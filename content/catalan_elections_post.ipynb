{
 "cells": [
  {
   "cell_type": "markdown",
   "metadata": {},
   "source": [
    "## Language knowledge and place of birth as predictors of independence support in Catalonia"
   ]
  },
  {
   "cell_type": "markdown",
   "metadata": {},
   "source": [
    "#### Introduction\n",
    "\n",
    "Catalonia, a Spanish region of 7.5 millions inhabitants, has been on the spotlight in recent months because a significant part of its population is pushing for political independence from Spain. Catalonia has been under Spanish administration for centuries, but its political allegiance has often been under the [shadow of doubt](https://en.wikipedia.org/wiki/Nueva_Planta_decrees). Even though massive immigration from other Spanish regions during the XXth century seemed to herald cultural convergence towards a common Spanish political culture, the independence issue has reemerged. In this post we are interested in finding sociological variables that are good predictors of independence support, and possibly determine, if any, causality relationships. We will base our discussion on results from recent regional elections published by the [Catalan Government](http://governacio.gencat.cat/ca/pgov_ambits_d_actuacio/pgov_eleccions/pgov_dades_electorals/) as well as on sociological data from [IDESCAT](https://www.idescat.cat/), the Catalan Institute of Statistics."
   ]
  },
  {
   "cell_type": "markdown",
   "metadata": {},
   "source": [
    "$$P(A\\mid B) = \\frac{P(B\\mid A)P(A)}{P(B)}$$ "
   ]
  },
  {
   "cell_type": "markdown",
   "metadata": {},
   "source": [
    "#### Data preprocessing\n",
    "\n",
    "Electoral data at municipal level could be easily downloaded from the Catalan Government site in CSV format. We focused on data from the regional elections held on the 27th of September 2015, where pro and anti independence blocks, except for one party, were clearly identifiable. A more recent election took place on the 21st of December 2017, with a higher turnout but with very similar percentages in terms of independence support. Ont he other hand, sociological data such as place of birth, level of studies or income level had to be scraped from IDESCAT (the scraping script is available on this GutHub repo). Data was from exactly the same year of the electoral contest. Once both datasets were available, data had to be merged using unique municipality codes. Data was saved in a .csv file hat can be easily imported into a pandas dataframe."
   ]
  },
  {
   "cell_type": "markdown",
   "metadata": {},
   "source": [
    "#### Exploring Data\n",
    "\n",
    "Catalonia currently has 947 municipalities, the vast majority of which are small villages of a few hundred inhabitants. We had to drop data for Talarn municipality, because some of it was clearly wrong."
   ]
  },
  {
   "cell_type": "code",
   "execution_count": 1,
   "metadata": {
    "collapsed": true
   },
   "outputs": [],
   "source": [
    "import pandas as pd\n",
    "import numpy as np\n",
    "DF_ALL_MUNIC_DATA = pd.read_csv('data/catalan_elections/DF_ALL_MUNIC_DATA.csv')"
   ]
  },
  {
   "cell_type": "markdown",
   "metadata": {},
   "source": [
    "The imported dataframe contains all electoral data together with all scraped sociological variables at municipal level. We will focus on four main types of sociological data ( the independent variables):\n",
    "\n",
    "   - Place of birth\n",
    "   - Income level\n",
    "   - Educational level\n",
    "   - Language knowledge\n",
    "    \n",
    "In order to do this, we select the appropriate columns from the dataframe "
   ]
  },
  {
   "cell_type": "code",
   "execution_count": 9,
   "metadata": {
    "collapsed": true
   },
   "outputs": [],
   "source": [
    "# select relevant columns\n",
    "attributes = ['Independ_pct', 'pct_cat', 'pct_spa', 'pct_foreign', 'RFDB_idx', 'pct_Univ',\n",
    "              'pct_1erGrau', 'pct_cat_speakers', 'Tot']"
   ]
  },
  {
   "cell_type": "markdown",
   "metadata": {},
   "source": [
    "   1. __'pct_cat'__ is , for each municipality, the percentage of people born in Catalonia and __'pct_spa'__ is the percentage of people born in another Spanish region. __'pct_foreign'__ is the percentage of people born outside the Spanish State ( most of whom cannot vote ).\n",
    "   2. __'RFDB_idx'__ is the average income level of the municipality\n",
    "   3. __'pct_Univ'__ is the percentage of people over 16 in the municipality with a University degree. __'pct_1erGrau'__ is the percentage of people over 16 that attended primary school for a few years, but that never completed basic studies. \n",
    "   4. __pct_cat_speakers__ is the percentage of the population of the municiaplity able to communicate in Catalan language.\n",
    "    \n",
    "Unemployment data ( measured at the end of the year, in winter) was discarded because of the high seasonality it showed in many villages, making it a highly unreliable indicator. \n",
    "\n",
    "Our dependent variable will be __'Independ_pct'__, the percentage of the population in each municipality that voted for inequivocally pro-independence parties in the elections of 27th of September 2015. The parties were actually two : JuntsxSi ( a coalition of the wo main Catalan nationalist parties) and CUP, a far left party that scored higher than ever in the considered election.\n",
    "\n",
    "pandas has a handy method 'describe' that summarizes the basic statistics of each column of the dataframe:"
   ]
  },
  {
   "cell_type": "code",
   "execution_count": 10,
   "metadata": {},
   "outputs": [
    {
     "data": {
      "text/html": [
       "<div>\n",
       "<style scoped>\n",
       "    .dataframe tbody tr th:only-of-type {\n",
       "        vertical-align: middle;\n",
       "    }\n",
       "\n",
       "    .dataframe tbody tr th {\n",
       "        vertical-align: top;\n",
       "    }\n",
       "\n",
       "    .dataframe thead th {\n",
       "        text-align: right;\n",
       "    }\n",
       "</style>\n",
       "<table border=\"1\" class=\"dataframe\">\n",
       "  <thead>\n",
       "    <tr style=\"text-align: right;\">\n",
       "      <th></th>\n",
       "      <th>Independ_pct</th>\n",
       "      <th>pct_cat</th>\n",
       "      <th>pct_spa</th>\n",
       "      <th>pct_foreign</th>\n",
       "      <th>RFDB_idx</th>\n",
       "      <th>pct_Univ</th>\n",
       "      <th>pct_1erGrau</th>\n",
       "      <th>pct_cat_speakers</th>\n",
       "      <th>Tot</th>\n",
       "    </tr>\n",
       "  </thead>\n",
       "  <tbody>\n",
       "    <tr>\n",
       "      <th>count</th>\n",
       "      <td>946.000000</td>\n",
       "      <td>946.000000</td>\n",
       "      <td>946.000000</td>\n",
       "      <td>946.000000</td>\n",
       "      <td>216.000000</td>\n",
       "      <td>152.000000</td>\n",
       "      <td>462.000000</td>\n",
       "      <td>936.000000</td>\n",
       "      <td>9.460000e+02</td>\n",
       "    </tr>\n",
       "    <tr>\n",
       "      <th>mean</th>\n",
       "      <td>69.464757</td>\n",
       "      <td>79.048666</td>\n",
       "      <td>10.257500</td>\n",
       "      <td>10.693833</td>\n",
       "      <td>93.427315</td>\n",
       "      <td>19.616972</td>\n",
       "      <td>14.743326</td>\n",
       "      <td>85.518522</td>\n",
       "      <td>7.951276e+03</td>\n",
       "    </tr>\n",
       "    <tr>\n",
       "      <th>std</th>\n",
       "      <td>16.448300</td>\n",
       "      <td>9.745930</td>\n",
       "      <td>5.886323</td>\n",
       "      <td>6.624858</td>\n",
       "      <td>13.261371</td>\n",
       "      <td>7.382937</td>\n",
       "      <td>3.874346</td>\n",
       "      <td>8.778367</td>\n",
       "      <td>5.572871e+04</td>\n",
       "    </tr>\n",
       "    <tr>\n",
       "      <th>min</th>\n",
       "      <td>14.600000</td>\n",
       "      <td>40.866369</td>\n",
       "      <td>0.000000</td>\n",
       "      <td>0.000000</td>\n",
       "      <td>58.800000</td>\n",
       "      <td>6.819345</td>\n",
       "      <td>5.654776</td>\n",
       "      <td>50.668964</td>\n",
       "      <td>2.700000e+01</td>\n",
       "    </tr>\n",
       "    <tr>\n",
       "      <th>25%</th>\n",
       "      <td>61.075000</td>\n",
       "      <td>73.211240</td>\n",
       "      <td>5.811894</td>\n",
       "      <td>5.988154</td>\n",
       "      <td>84.075000</td>\n",
       "      <td>14.118196</td>\n",
       "      <td>12.130013</td>\n",
       "      <td>80.569736</td>\n",
       "      <td>3.162500e+02</td>\n",
       "    </tr>\n",
       "    <tr>\n",
       "      <th>50%</th>\n",
       "      <td>74.045000</td>\n",
       "      <td>79.884299</td>\n",
       "      <td>8.839505</td>\n",
       "      <td>9.414203</td>\n",
       "      <td>94.350000</td>\n",
       "      <td>18.278716</td>\n",
       "      <td>14.622246</td>\n",
       "      <td>87.442369</td>\n",
       "      <td>9.465000e+02</td>\n",
       "    </tr>\n",
       "    <tr>\n",
       "      <th>75%</th>\n",
       "      <td>81.780000</td>\n",
       "      <td>86.375442</td>\n",
       "      <td>13.725421</td>\n",
       "      <td>13.822862</td>\n",
       "      <td>101.025000</td>\n",
       "      <td>22.151323</td>\n",
       "      <td>16.917358</td>\n",
       "      <td>92.149169</td>\n",
       "      <td>3.717750e+03</td>\n",
       "    </tr>\n",
       "    <tr>\n",
       "      <th>max</th>\n",
       "      <td>96.730000</td>\n",
       "      <td>99.159664</td>\n",
       "      <td>30.069723</td>\n",
       "      <td>45.240859</td>\n",
       "      <td>129.200000</td>\n",
       "      <td>46.321718</td>\n",
       "      <td>29.169350</td>\n",
       "      <td>100.000000</td>\n",
       "      <td>1.608746e+06</td>\n",
       "    </tr>\n",
       "  </tbody>\n",
       "</table>\n",
       "</div>"
      ],
      "text/plain": [
       "       Independ_pct     pct_cat     pct_spa  pct_foreign    RFDB_idx  \\\n",
       "count    946.000000  946.000000  946.000000   946.000000  216.000000   \n",
       "mean      69.464757   79.048666   10.257500    10.693833   93.427315   \n",
       "std       16.448300    9.745930    5.886323     6.624858   13.261371   \n",
       "min       14.600000   40.866369    0.000000     0.000000   58.800000   \n",
       "25%       61.075000   73.211240    5.811894     5.988154   84.075000   \n",
       "50%       74.045000   79.884299    8.839505     9.414203   94.350000   \n",
       "75%       81.780000   86.375442   13.725421    13.822862  101.025000   \n",
       "max       96.730000   99.159664   30.069723    45.240859  129.200000   \n",
       "\n",
       "         pct_Univ  pct_1erGrau  pct_cat_speakers           Tot  \n",
       "count  152.000000   462.000000        936.000000  9.460000e+02  \n",
       "mean    19.616972    14.743326         85.518522  7.951276e+03  \n",
       "std      7.382937     3.874346          8.778367  5.572871e+04  \n",
       "min      6.819345     5.654776         50.668964  2.700000e+01  \n",
       "25%     14.118196    12.130013         80.569736  3.162500e+02  \n",
       "50%     18.278716    14.622246         87.442369  9.465000e+02  \n",
       "75%     22.151323    16.917358         92.149169  3.717750e+03  \n",
       "max     46.321718    29.169350        100.000000  1.608746e+06  "
      ]
     },
     "execution_count": 10,
     "metadata": {},
     "output_type": "execute_result"
    }
   ],
   "source": [
    "# describe data\n",
    "DF_ALL_MUNIC_DATA[attributes].describe()"
   ]
  },
  {
   "cell_type": "markdown",
   "metadata": {},
   "source": [
    "Unfortunately, educational and income data are not available for the majority of the municipalities. On the contrary, place of birth and language knowledge are available for all of them. A few comments on the data are:\n",
    " - __The distribution of the population__: __'Tot'__ variable is the number of inhabitants in the municipalities. 75% of them have less than 3700 inhabitants. The maximum corresponds to Barcelona, with more than 1.6 million people. The minimum, to a village of only 27 souls.\n",
    " - __The distribution of independence support__: \n",
    "\n",
    "A first step towards understanding potential relationships between the dependent and the independent variables is to compute correlations. pandas has again a handy method 'corr' to do exactly that."
   ]
  },
  {
   "cell_type": "code",
   "execution_count": 3,
   "metadata": {},
   "outputs": [
    {
     "data": {
      "text/plain": [
       "pct_spa            -0.850738\n",
       "pct_foreign        -0.266279\n",
       "Tot                -0.192456\n",
       "RFDB_idx           -0.106550\n",
       "pct_1erGrau         0.200860\n",
       "pct_Univ            0.396213\n",
       "pct_cat             0.694831\n",
       "pct_cat_speakers    0.751488\n",
       "Name: Independ_pct, dtype: float64"
      ]
     },
     "execution_count": 3,
     "metadata": {},
     "output_type": "execute_result"
    }
   ],
   "source": [
    "corr_matrix = DF_ALL_MUNIC_DATA[attributes].corr()\n",
    "#corr_matrix['Independ_pct'].sort_values()[:-1].to_frame()\n",
    "corr_matrix['Independ_pct'].sort_values()[:-1]"
   ]
  },
  {
   "cell_type": "markdown",
   "metadata": {},
   "source": [
    "Clearly, the strongest correlations of independence support are with places of birth and language knowledge. We will see later tha place of birth and language knowledge are highly correlated, and thus they can be considered as a single predictor. The correlation with place of birth is particularly high when people are born in other Spanish regions outside Catalonia (a very strong negative correlation of 85%). \n",
    "\n",
    "The percentage of Spanish-born people outside Catalonia is actually a proxy for the degree of intensity of Spanish cultural origins among the population of the municipality. The variable __'pct_spa'__ measures the immigration level from other Spanish regions, but it does not tell whether this immigration is recent or rather from a few decades ago. However, we know that during the second half of the XXth century there was a massive [immigration wave](https://ca.wikipedia.org/wiki/Demografia_de_Catalunya) that concentrated in the urban area around Barcelona  ( total population grew from 3.2 milions in 1950 to 5.1 milions in 1970). In more recent decades, the migration pressure from other Spanish regions has decreased. It is therefore likely that  the higher the __'pct_spa'__ value, the more likely it is that even Catalan-born people from the municipality have recent Spanish roots in their family: they are the outspring from the migrants of the 50-70s. That is to say, the percentage of people with Spanish origins is always higher than the value expressed by __'pct_spa'__ because this indicator is high in places were immigration has been high in recent decades. \n",
    "\n",
    "On the contrary, a high level of __'pct_cat'__ tends to indicate that most people have Catalan roots, but it masks the fact that a percentage of the people born in Catalonia will have non Catalan origins because of the high immigration levels in the second half of the XX century. Therefore, the percentage of people with Catalan roots is always lower than the percentage expressed by __'pct_cat'."
   ]
  },
  {
   "cell_type": "markdown",
   "metadata": {},
   "source": [
    "Since the correlation coefficient only measures linear relationships \n",
    "and it may completely miss out on nonlinear ones, in order to explore potential non linearities, it is always useful to actually visualize the relations between variables."
   ]
  },
  {
   "cell_type": "markdown",
   "metadata": {},
   "source": [
    "#### Graphs"
   ]
  },
  {
   "cell_type": "markdown",
   "metadata": {},
   "source": [
    "Scatter matrix from dataframe\n",
    "<img alt=\"\" src=\"figures/catalan_elections/data_scatter_matrix.png\"/>"
   ]
  },
  {
   "cell_type": "markdown",
   "metadata": {},
   "source": [
    "#### Feature selection : random forests"
   ]
  },
  {
   "cell_type": "markdown",
   "metadata": {},
   "source": [
    "#### Regression"
   ]
  },
  {
   "cell_type": "code",
   "execution_count": null,
   "metadata": {
    "collapsed": true
   },
   "outputs": [],
   "source": []
  },
  {
   "cell_type": "markdown",
   "metadata": {},
   "source": [
    "#### Conclusion"
   ]
  },
  {
   "cell_type": "markdown",
   "metadata": {},
   "source": [
    " \n",
    "Results should be taken with caution. We have the precedent of Ukraine, where two referendums were held almost in succession in a single year, with strikingly different results. Allegiances of some parts of society may switch rapidly"
   ]
  },
  {
   "cell_type": "code",
   "execution_count": null,
   "metadata": {
    "collapsed": true
   },
   "outputs": [],
   "source": [
    "import numpy as np\n",
    "import pandas as pd\n",
    "url = \"http://www.historiaelectoral.com/percentcat.html\"\n",
    "tbs = pd.read_html(url)"
   ]
  },
  {
   "cell_type": "code",
   "execution_count": null,
   "metadata": {
    "collapsed": true
   },
   "outputs": [],
   "source": [
    "df = pd.DataFrame(tbs[1][[0,1]].values[2:-2], columns = ['elect_type', 'part_pct'])\n",
    "df['part_pct'] = df['part_pct'].astype(int)\n",
    "\n",
    "df = df.sort_values(by='part_pct')\n",
    "\n",
    "df = df.reset_index(drop=True)"
   ]
  },
  {
   "cell_type": "code",
   "execution_count": null,
   "metadata": {
    "collapsed": true
   },
   "outputs": [],
   "source": [
    "df.count()"
   ]
  },
  {
   "cell_type": "code",
   "execution_count": null,
   "metadata": {
    "collapsed": true
   },
   "outputs": [],
   "source": [
    "import re"
   ]
  },
  {
   "cell_type": "code",
   "execution_count": null,
   "metadata": {
    "collapsed": true
   },
   "outputs": [],
   "source": [
    "df['elect_type'][0]"
   ]
  },
  {
   "cell_type": "code",
   "execution_count": null,
   "metadata": {
    "collapsed": true
   },
   "outputs": [],
   "source": [
    "df[df['elect_type'].str.contains('G.')]"
   ]
  },
  {
   "cell_type": "code",
   "execution_count": null,
   "metadata": {
    "collapsed": true
   },
   "outputs": [],
   "source": [
    "from matplotlib import pyplot as plt\n",
    "plt.rcParams[\"figure.figsize\"] = (10, 8)"
   ]
  },
  {
   "cell_type": "code",
   "execution_count": 27,
   "metadata": {
    "collapsed": true
   },
   "outputs": [],
   "source": [
    "from sklearn.datasets import load_iris"
   ]
  },
  {
   "cell_type": "code",
   "execution_count": 28,
   "metadata": {
    "collapsed": true
   },
   "outputs": [],
   "source": [
    "iris = load_iris()"
   ]
  },
  {
   "cell_type": "code",
   "execution_count": 55,
   "metadata": {
    "collapsed": true
   },
   "outputs": [],
   "source": [
    "from sklearn.tree import DecisionTreeRegressor\n",
    "from sklearn.ensemble import RandomForestRegressor"
   ]
  },
  {
   "cell_type": "code",
   "execution_count": 65,
   "metadata": {
    "collapsed": true
   },
   "outputs": [],
   "source": [
    "dt_reg = DecisionTreeRegressor(max_depth=6)\n",
    "rf_reg = RandomForestRegressor(max_depth=4)"
   ]
  },
  {
   "cell_type": "code",
   "execution_count": 66,
   "metadata": {
    "collapsed": true
   },
   "outputs": [],
   "source": [
    "df = DF_ALL_MUNIC_DATA[attributes]\n",
    "df = df.dropna()\n",
    "X = df.drop('Independ_pct', axis=1).values\n",
    "y = df['Independ_pct'].values"
   ]
  },
  {
   "cell_type": "code",
   "execution_count": 67,
   "metadata": {},
   "outputs": [
    {
     "data": {
      "text/plain": [
       "DecisionTreeRegressor(criterion='mse', max_depth=6, max_features=None,\n",
       "           max_leaf_nodes=None, min_impurity_decrease=0.0,\n",
       "           min_impurity_split=None, min_samples_leaf=1,\n",
       "           min_samples_split=2, min_weight_fraction_leaf=0.0,\n",
       "           presort=False, random_state=None, splitter='best')"
      ]
     },
     "execution_count": 67,
     "metadata": {},
     "output_type": "execute_result"
    }
   ],
   "source": [
    "dt_reg.fit(X, y)"
   ]
  },
  {
   "cell_type": "code",
   "execution_count": 68,
   "metadata": {},
   "outputs": [
    {
     "data": {
      "text/plain": [
       "Index(['pct_cat', 'pct_spa', 'pct_foreign', 'RFDB_idx', 'pct_Univ',\n",
       "       'pct_1erGrau', 'pct_cat_speakers', 'Tot'],\n",
       "      dtype='object')"
      ]
     },
     "execution_count": 68,
     "metadata": {},
     "output_type": "execute_result"
    }
   ],
   "source": [
    "df.drop('Independ_pct', axis=1).keys()"
   ]
  },
  {
   "cell_type": "code",
   "execution_count": 69,
   "metadata": {},
   "outputs": [
    {
     "data": {
      "text/plain": [
       "array([ 0.00250801,  0.81381858,  0.00500208,  0.0297963 ,  0.00849649,\n",
       "        0.01833272,  0.11087233,  0.0111735 ])"
      ]
     },
     "execution_count": 69,
     "metadata": {},
     "output_type": "execute_result"
    }
   ],
   "source": [
    "dt_reg.feature_importances_"
   ]
  },
  {
   "cell_type": "code",
   "execution_count": 53,
   "metadata": {},
   "outputs": [
    {
     "data": {
      "text/plain": [
       "RandomForestRegressor(bootstrap=True, criterion='mse', max_depth=4,\n",
       "           max_features='auto', max_leaf_nodes=None,\n",
       "           min_impurity_decrease=0.0, min_impurity_split=None,\n",
       "           min_samples_leaf=1, min_samples_split=2,\n",
       "           min_weight_fraction_leaf=0.0, n_estimators=10, n_jobs=1,\n",
       "           oob_score=False, random_state=None, verbose=0, warm_start=False)"
      ]
     },
     "execution_count": 53,
     "metadata": {},
     "output_type": "execute_result"
    }
   ],
   "source": [
    "rf_reg.fit(X, y)"
   ]
  },
  {
   "cell_type": "code",
   "execution_count": 54,
   "metadata": {},
   "outputs": [
    {
     "data": {
      "text/plain": [
       "array([ 0.00173497,  0.90802415,  0.00396083,  0.01225879,  0.00773688,\n",
       "        0.0094459 ,  0.0457114 ,  0.01112708])"
      ]
     },
     "execution_count": 54,
     "metadata": {},
     "output_type": "execute_result"
    }
   ],
   "source": [
    "rf_reg.feature_importances_"
   ]
  },
  {
   "cell_type": "code",
   "execution_count": 51,
   "metadata": {},
   "outputs": [
    {
     "data": {
      "text/plain": [
       "Index(['pct_cat', 'pct_spa', 'pct_foreign', 'RFDB_idx', 'pct_Univ',\n",
       "       'pct_1erGrau', 'pct_cat_speakers', 'Tot'],\n",
       "      dtype='object')"
      ]
     },
     "execution_count": 51,
     "metadata": {},
     "output_type": "execute_result"
    }
   ],
   "source": [
    "df.drop('Independ_pct', axis=1).columns"
   ]
  },
  {
   "cell_type": "code",
   "execution_count": null,
   "metadata": {
    "collapsed": true
   },
   "outputs": [],
   "source": []
  }
 ],
 "metadata": {
  "kernelspec": {
   "display_name": "Python 3",
   "language": "python",
   "name": "python3"
  },
  "language_info": {
   "codemirror_mode": {
    "name": "ipython",
    "version": 3
   },
   "file_extension": ".py",
   "mimetype": "text/x-python",
   "name": "python",
   "nbconvert_exporter": "python",
   "pygments_lexer": "ipython3",
   "version": "3.5.3"
  }
 },
 "nbformat": 4,
 "nbformat_minor": 1
}
