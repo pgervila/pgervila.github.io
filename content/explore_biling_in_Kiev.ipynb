{
 "cells": [
  {
   "cell_type": "markdown",
   "metadata": {},
   "source": [
    "## Introduction"
   ]
  },
  {
   "cell_type": "markdown",
   "metadata": {},
   "source": [
    " In this post we will explore the linguistic behavior of Kiev residents that are also active on Twitter. In a [previous post](https://pgervila.github.io/first-post.html), we carried out an identical task for the city of Barcelona.\n",
    "Even though at first sight Barcelona and Kiev do not seem to have many points in common, in reality they are both large bilingual cities where a language that developed locally coexists with a much more powerful one that has also been spoken for centuries in the city. They also share a history of minoritization of the vernacular language that, strikingly, spans a very similar period of time: roughly the 300 years from the beginning of the 18th century to the end of the 20th century, when Ukraine became an independent country and Catalonia regained some degree of autonomy from Spanish rule. \n",
    "\n",
    " Both languages have undergone brief periods of cultural revival followed by new waves of repression. Russian was already the dominant language of the city of Kiev in the 19th century according to the [General Census of the Russian Empire of 1897](http://www.demoscope.ru/weekly/ssp/rus_lan_97_uezd_eng.php?reg=533), long before the beginning of Soviet rule and before the exodus from the countryside that made Ukrainian a relevant language in Kiev again as a late industrial revolution unravelled in the Russian Empire. This is exactly the same phenomena that took place in Barcelona more than  half a century earlier: a predominantly Spanish-speaking city swelled in size as workers poured into it from all rural areas in Catalonia, making Catalan again the most spoken language in the capital. New periods of political repression -and especially in Catalonia, together with massive immigration of Spanish speakers- reestablished the dominance of Russian and Spanish. \n",
    "\n",
    " A recent visit to Kiev also confirmed very similar dynamics to those of Barcelona in terms of diglossia: the spontaneous use of Russian with strangers (the security guard in a central city mall stopping a suspicious person carrying a bucket), the preference for Russian among staff of a central Hotel, the overwhelming preference for it by passengers and staff alike at Boryspil airport ( also among young flight assistants when talking to each other)... all in a background of boards and signs primarily - and in Kiev almost exclusively - written in the vernacular language, which can be heard rather frequently in the streets.\n",
    "\n",
    " However, there are also some differences that need to be pointed out: Kiev has enjoyed some periods of _political_ autonomy from Russian rule that have no real counterpart in the Catalan case, such as [Ukrainization](https://en.wikipedia.org/wiki/Ukrainization) in the 1920s. In addition, though Soviet rule was in many ways an even more brutal regime than the Francoist dictatorship, the Ukrainian language was not banned from the educational system during most periods of the 20th century (when education became almost universal). Last but not least, Ukraine became an independent country in 1991 and since then has enjoyed complete control on language policies as well as on their enforcement: whereas a new wave of Ukrainization is currently in full swing, the Catalan government is being constantly challenged by the Spanish legal system in all sensitive matters that have to do with language and has comparatively much less room for maneuver.\n",
    "\n",
    "The post will follow the same structure as the previous one about Barcelona, together with a comparison of results to highlight potential differences and similarities between both cities\n"
   ]
  },
  {
   "cell_type": "markdown",
   "metadata": {},
   "source": [
    "## Discussion of Twitter sample bias\n",
    "\n",
    "In the previous post it was shown that Twitter samples tend to overrepresent younger-than-average people with higher-than-average incomes and educational backgrounds. Let us discuss how this fact may introduce bias into our analysis of language choice in Kiev:\n",
    "\n",
    " - __Education and income bias__: The sociolinguistic association of Ukrainian in Kiev does not seem to be as clear as that of Catalan in Barcelona: whereas Catalan tends to be relatively more spoken in middle-to-higher-class areas (with the exception of the very rich classes, that prefer Spanish), Ukrainian follows a different pattern (see Chapter 5, page 1049 of the [PhD thesis by Olga Ivanova](https://gredos.usal.es/jspui/handle/10366/102097)). In Kiev, Russian is dominant among middle-to-higher classes, but the use of both Ukrainian and Russian is much more balanced among people of lower-class incomes. This difference is due to many factors, but migration dynamics play an important role in it: even though both cities have a very large percentage of inhabitants born in another region or place (almost 50%), in recent decades Kiev has attracted hundreds of thousands of migrants from predominantly rural areas of Central Ukraine (18% of the population) where Ukrainian is often the most spoken language. Kiev also attracts many foreigners from ex-Soviet republics, including Russian federation, but they make up only 11% of the city residents (see [data on Wikipedia](https://uk.wikipedia.org/wiki/%D0%9D%D0%B0%D1%81%D0%B5%D0%BB%D0%B5%D0%BD%D0%BD%D1%8F_%D0%9A%D0%B8%D1%94%D0%B2%D0%B0#%D0%9C%D0%BE%D0%B2%D0%BD%D0%B8%D0%B9_%D1%81%D0%BA%D0%BB%D0%B0%D0%B4) ) On the contrary, Barcelona does attract migrants from Catalan-speaking aereas of Catalonia, but also many more monolingual Spanish speakers from poorer regions of Spain ( current proportion 3 to 1, but over 4 to 1 in recent past) and foreigners that usually come with already some knowledge of Spanish but no knowledge at all of Catalan (proportion 4 to 1) ( see [data on Idescat](http://www.idescat.cat/pub/?geo=mun%3A080193&id=pmh&n=674)). The conclusions is that, from an income and educational perspective, Russian speakers might be overrepresented in the samples we will obtain.\n",
    "\n",
    "<img alt=\"\" src=\"figures/Kiev/kiev_demographics.png\" />\n",
    "\n",
    "\n",
    "\n",
    "- __age_bias__: The age factor works approximately in the same way as for Barcelona as far as the vernacular is concerned. Since Twitter samples tend to overrepresent the younger generations who have had a relatively much higher exposition to education in Ukrainian, Twitther samples will introduce a bias in favor of Ukrainian as compared to the habits of the entire population.\n",
    "\n",
    "- __cultural_bias__: Contrary to the case of Barcelona, where the very fact of being a Twitter user could not be correlated with language preference, it is possible that in Kiev, Ukrainian speakers are more likely to be Twitter users than Russian speakers. Since Twitter is a networking service that originated in the US, and since there are popular Russian-based alternatives in social media, it is possible that Western-oriented speakers are overrepresented in a Twitter sample. However, we do not believe this to be a significant bias in Kiev, where the fact of speaking Russian rather than Ukrainian is rarely associated to a political identification with Russia.\n"
   ]
  },
  {
   "cell_type": "markdown",
   "metadata": {},
   "source": [
    "## Selected root accounts and reminder of methodology\n",
    "\n",
    "Identical criteria to those applied in the [Barcelona post](http://localhost:8888/notebooks/content/explore_biling_in_Barcelona.ipynb) were used to select the list of 10 Twitter root accounts. The resulting sample has in principle un undeniable pro-Ukrainian bias that should compensate for any potential pro-Russian bias coming from primarily middle-class Twitter users: the idea is to avoid underestimation of the use of the Ukrainian language in the city.\n",
    "\n",
    "Much more expensive to find useful users ( many fakes, many dummys with little contribution, many foreigners)\n",
    "\n",
    "The following are the selected root accounts:\n",
    "\n",
    " - 5 accounts in Ukrainian only: \n",
    "  - __@kyivmetroalerts__ : the official Twitter account of Kiev's public transport service\n",
    "  - __@ukrpravda_news__ : a popular online newspaper based in Kiev\n",
    "  - __@ServiceSsu__ : official Twitter account of the Ukrainian security services\n",
    "  - __@patrolpoliceua__ : official Twitter account of the police of Ukraine \n",
    "  - __@5channel__ : a popular information channel\n",
    "\n",
    " - 2 in Russian : \n",
    "  - __@segodnya_life__ : a widely distributed tabloid newspaper\n",
    "  - __@Korrespondent__ : another popular online newspaper based in Kiev\n",
    " - 3 bilingual accounts: \n",
    "  - __@VWK668__ : a private account with historical pics and news from the city of Kiev\n",
    "  - __@KyivOperativ__ : an account that reports on accidents and crimes occurred in Kiev\n",
    "  - __@auto_kiev__ : another account that provides traffic information from Kiev.\n",
    "  \n",
    " Of these accounts, we consider __@kyivmetroalerts, @patrolpoliceua, @KyivOperativ, @auto_kiev__ and __@VWK668__ to be politically neutral. Let us remember that political neutrality does not imply cultural neutrality."
   ]
  },
  {
   "cell_type": "markdown",
   "metadata": {},
   "source": [
    "## Relative relevance of each account\n",
    "\n",
    "A significant difference between the Barcelona analysis and the Kiev one is the fact that Twitter is relatively much more popular in Barcelona than in Kiev. In Spain, Twitter is currently the 6th most popular website, whereas in Ukraine it is only the [28th](https://www.similarweb.com/top-websites/ukraine). This results into a certain discordance between popular tabloids such as @segodnya (one of he most popular tabloids by distribution, approaching 1 million copies) having relative few Twitter followers ( ~ 20000 at the end of 2018) : the likely reason being that most of its readers are not frequent internet users yet.  \n",
    "Another important difference is the density of dummy or troll followers in the Ukrainian Twitter network, especially for those accounts with a huge number of followers such as __@ukrpravda_news__ or __@5channel__. This pushed us to focus on accounts with a high density of Kiev residents rather than on accounts that were very popular on paper but that delivered a very low density of Kiev residents after analysis.\n",
    "\n",
    "Last but not least, the relatively low popularity of Twitter in ukraine makes the presence of English even more inflated than in Barcelona. Many followers are actually expats.\n",
    "\n",
    "\n",
    "<img alt=\"\" src=\"figures/Kiev/num_flws_resids_per_acc_in_Kiev.png\" />"
   ]
  },
  {
   "cell_type": "markdown",
   "metadata": {},
   "source": [
    "## Twitter language settings per root accounts\n",
    "\n",
    "\n",
    "<img alt=\"\" src=\"figures/Kiev/lang_settings_in_Kiev.png\" />"
   ]
  },
  {
   "cell_type": "markdown",
   "metadata": {},
   "source": [
    "## Percentage of tweets in each language\n",
    "\n",
    "<img alt=\"\" src=\"figures/Kiev/percentage_of_each_lang_per_account_in_Kiev.png\" />"
   ]
  },
  {
   "cell_type": "markdown",
   "metadata": {},
   "source": [
    "## Distributions of followers' language choice per account\n",
    "\n",
    "\n",
    "<img alt=\"\" src=\"figures/Kiev/lang_distribs_per_acc_in_Kiev.png\" />\n",
    "\n",
    "Data for box plots\n",
    "\n",
    "- __Ukrainian__:\n",
    "<img alt=\"\" src=\"figures/Kiev/data_lang_distribs_per_acc_in_Kiev_UK.png\" />\n",
    "\n",
    "\n",
    "- __Russian__:\n",
    "<img alt=\"\" src=\"figures/Kiev/data_lang_distribs_per_acc_in_Kiev_RU.png\"  />"
   ]
  },
  {
   "cell_type": "markdown",
   "metadata": {},
   "source": [
    "## Language choice distribution at city level: the weighted sample of account followers \n",
    "\n",
    "\n",
    "\n",
    "<img alt=\"\" src=\"figures/Kiev/hist_lang_choice_weighted_sample_followers.png\" />\n",
    "\n",
    "<img alt=\"\" src=\"figures/Kiev/weighted_sample_indicators_distribs_in_Kiev.png\" />\n",
    "\n",
    "<img alt=\"\" src=\"figures/Kiev/weighted_sample_data_description_Kiev.png\" />"
   ]
  },
  {
   "cell_type": "markdown",
   "metadata": {},
   "source": [
    "## Comparison to official data\n",
    "\n",
    "The relative use of Russian and Ukrainian in Kiev according to recent polls oscillates too much as to consider them sufficiently reliable. According to a recent [poll conducted in 2015](http://www.iri.org/sites/default/files/wysiwyg/2015-05-19_ukraine_national_municipal_survey_march_2-20_2015.pdf), 27% of households in Kiev speak Ukrainian while 32% prefer Russian: the rest claim to use both languages at home. Of course in most cases 'both' masks a difference in relative use that pollsters are unable or unwilling to quantify. According to [another poll in 2006](http://www.wumag.kiev.ua/index2.php?param=pgs20032/72), Russian was the most used language in everyday life by 52% of Kievans, whereas 32% used both in equal measure and only 18% used mostly Ukrainian. \n"
   ]
  },
  {
   "cell_type": "markdown",
   "metadata": {},
   "source": [
    "## Comparison of language choice in public transport in Kiev and Barcelona\n",
    "\n",
    "It would be interesting to attempt a comparison of the relative strength of the minority languages in both cities. In order to do this, we need samples that can indeed be comparable. One possibility would be the comparison of the weighted average sample, even though it is complex to come up with really equivalent samples from a selection of accounts. Another possibility would be to compare followers from accounts that are roughly equivalent : the public transportation system being a natural choice, with the advantage that both are written in the corresponding minority language of the city.\n",
    "\n",
    "The __@TMB_Barcelona__ and __@kyivmetroalerts__ accounts are probably the most informative of all accounts from a linguistic viewpoint, because public transport is tipically one of the few places in a city where large amounts of people from different backgrounds and places come together. Since we expect its followers to be, if certainly not a random one, at least a representative sample of its users, this account should provide a good linguistic summary of the city. \n",
    "\n",
    "Catalan and Ukrainian are both used less than 10% of the times by half of the sampled users. In this respect, the distributions are strikingly similars. But they are different for the other half of users. To start with, Ukranian has a much higher percentage of mostly monolingual accounts than Catalan ( 10% vs 2% ) : is it because of business accounts that prefer to tweet in Ukrainian to comply with commercial laws or rather due to a higher degree of linguistic commitment?\n",
    "\n",
    "<img alt=\"\" src=\"figures/Kiev/Language choice distributions from followers of @TMB_Barcelona, @kyivmetroalerts accounts.png\"/>\n",
    "\n",
    "Russian, Spanish\n",
    "\n",
    "From a Spanish-language perspective, the interval with the highest frequency is that with more than 95% of tweets written in Spanish. From a Catalan perspective, the interval with the highest frequency is that with less than 5% of tweets written in Catalan ( with a frequency 3 times higher than that of the second higher frequency interval - the adjacent one ). \n",
    "The cumulative histogram shows how approximately half of the followers write less than 10% of their tweets in Catalan, and less than 20% of followers write the majority of their tweets in Catalan. The cumulative curve for Spanish shows that half of the followers write more than 70% of their content in Spanish, and 70% of followers tweet mostly in Spanish"
   ]
  },
  {
   "cell_type": "markdown",
   "metadata": {},
   "source": [
    "## Conclusions\n",
    "\n",
    "Our study showed a surprising degree of similarity in the use of vernacular language among Twitter users from both Kiev and Barcelona. In both cities a significant proportion of users make very marginal use of them. There are also some relevant differences: even though the study does not allow to measure the velocity of change, if any, Ukrainian appears to feature a larger proportion of users that are very loyal in linguistic terms. We cannot say the same in the case of Catalan, where users that use it exclusively are rare\n",
    "\n",
    "Interesting to repeat the analysis in 5 years time to quantify the impact of the recent conflict. Many reports of people attempting to switch to Ukrainian since 2014"
   ]
  }
 ],
 "metadata": {
  "kernelspec": {
   "display_name": "Python 3",
   "language": "python",
   "name": "python3"
  },
  "language_info": {
   "codemirror_mode": {
    "name": "ipython",
    "version": 3
   },
   "file_extension": ".py",
   "mimetype": "text/x-python",
   "name": "python",
   "nbconvert_exporter": "python",
   "pygments_lexer": "ipython3",
   "version": "3.5.3"
  }
 },
 "nbformat": 4,
 "nbformat_minor": 2
}
