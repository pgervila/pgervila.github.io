{
 "cells": [
  {
   "cell_type": "markdown",
   "metadata": {},
   "source": [
    "## Introduction"
   ]
  },
  {
   "cell_type": "markdown",
   "metadata": {},
   "source": [
    "In this post we will explore the linguistic behavior of Kiev residents that are also active on Twitter. In a previous post, we carried out an identical task for the city of Barcelona.\n",
    "At first sight, Barcelona and Kiev do not have many points in common: but in reality they are bilingual cities where a language that developed locally coexists with another much more powerful one that has also been spoken for centuries in the city\n",
    "\n",
    "#### TODO: add a bit of history comparison Kiev vs Barcelona, migration from countryside at different periods\n",
    "Though Russification of Ukraine is often associated with the Soviet period, Russian was already the dominant language of the city of Kiev in the XIX century according to the [General Census of the Russian Empire of 1897.](http://www.demoscope.ru/weekly/ssp/rus_lan_97_uezd_eng.php?reg=533)"
   ]
  },
  {
   "cell_type": "markdown",
   "metadata": {},
   "source": [
    "## Discussion of Twitter sample bias\n",
    "\n",
    " A key difference between Catalan and Ukrainian in urban environments lies in its sociolinguistic association: whereas Catalan tends to be relatively more spoken in middle-to-higher-class areas (with the exception of the very rich classes, that prefer Spanish), Ukrainian follows an opposite pattern (see the [PhD thesis by Olga Ivanova](https://gredos.usal.es/jspui/handle/10366/102097)). This is mostly due to migration dynamics: even though both cities have a very large percentage of inhabitants born in another region or place (almost 50%), in recent decades Kiev has attracted hundreds of thousands of migrants from predominantly rural areas of Central Ukraine (18% of the population) where Ukrainian is often the predominant language. Kiev also attracts many foreigners from ex-Soviet republics, including Russian federation, but they make up only 11% of the city residents (see [data on Wikipedia](https://uk.wikipedia.org/wiki/%D0%9D%D0%B0%D1%81%D0%B5%D0%BB%D0%B5%D0%BD%D0%BD%D1%8F_%D0%9A%D0%B8%D1%94%D0%B2%D0%B0#%D0%9C%D0%BE%D0%B2%D0%BD%D0%B8%D0%B9_%D1%81%D0%BA%D0%BB%D0%B0%D0%B4) )\n",
    "\n",
    "<img alt=\"\" src=\"figures/Kiev/kiev_demographics.png\" />\n",
    "\n",
    "On the contrary, Barcelona does attract migrants from Catalan-speaking aereas of Catalonia, but also many more monolingual Spanish speakers from poorer regions of Spain ( current proportion 3 to 1, but over 4 to 1 in recent past) or foreigners that usually come with already some knowledge of Spanish (proportion 4 to 1) ( see [data on Idescat](http://www.idescat.cat/pub/?geo=mun%3A080193&id=pmh&n=674)).\n",
    "\n",
    "The age factor works approximately in the same way as for Barcelona. Twitter samples tend to overrepresent the younger generations, thus delivering a bias in favor of Ukrainian as compared to the habits of the entire population.\n",
    "\n",
    "Contrary to the case of Barcelona, where the very fact of being a Twitter user could not be correlated with language preference, it is possible that in Kiev, Ukrainian speakers are more likely to be Twitter users than Russian speakers. Since Twitter is a networking service that originated in the US, and since there are Russian-speaking alternatives -mention-\n",
    "\n",
    "\n",
    "Discussion of foreigners clearly overrepresented"
   ]
  },
  {
   "cell_type": "markdown",
   "metadata": {},
   "source": [
    "## Methodology\n",
    "\n",
    "Read description from Barcelona post. Sample is clearly pro\n",
    "\n",
    " - 5 accounts in Ukrainian: \n",
    "  - __@kyivmetroalerts__\n",
    "  - __@ukrpravda_news__\n",
    "  - __@ServiceSsu__\n",
    "  - __@patrolpoliceua__\n",
    "  - __@5channel__\n",
    "\n",
    " - 2 in Russian : \n",
    "  - __@segodnya_life__\n",
    "  - __@Korrespondent__\n",
    " - 3 bilingual : \n",
    "  - __@VWK668__\n",
    "  - __@KyivOperativ__ \n",
    "  - __@auto_kiev__"
   ]
  },
  {
   "cell_type": "markdown",
   "metadata": {},
   "source": [
    "## Relative relevance of each account\n",
    "\n",
    "\n",
    "<img alt=\"\" src=\"figures/Kiev/num_flws_resids_per_acc_in_Kiev.png\" />"
   ]
  },
  {
   "cell_type": "markdown",
   "metadata": {},
   "source": [
    "## Twitter language settings per root accounts\n",
    "\n",
    "\n",
    "<img alt=\"\" src=\"figures/Kiev/lang_settings_in_Kiev.png\" />"
   ]
  },
  {
   "cell_type": "markdown",
   "metadata": {},
   "source": [
    "## Percentage of tweets in each language\n",
    "\n",
    "<img alt=\"\" src=\"figures/Kiev/percentage_of_each_lang_per_account_in_Kiev.png\" />"
   ]
  },
  {
   "cell_type": "markdown",
   "metadata": {},
   "source": [
    "## Distributions of followers' language choice per account\n",
    "\n",
    "\n",
    "<img alt=\"\" src=\"figures/Kiev/lang_distribs_per_acc_in_Kiev.png\" />\n",
    "\n",
    "Data for box plots\n",
    "\n",
    "Ukrainian\n",
    "<img alt=\"\" src=\"figures/Kiev/data_lang_distribs_per_acc_in_Kiev_UK.png\" />\n",
    "\n",
    "\n",
    "Russian\n",
    "<img alt=\"\" src=\"figures/Kiev/data_lang_distribs_per_acc_in_Kiev_RU.png\"  />"
   ]
  },
  {
   "cell_type": "markdown",
   "metadata": {},
   "source": [
    "## Language choice in public transport\n",
    "\n",
    "<img alt=\"\" src=\"figures/Kiev/hist_lang_choice_@kyivmetroalerts_followers.png\" />"
   ]
  },
  {
   "cell_type": "markdown",
   "metadata": {},
   "source": [
    "## Weighted average sample\n",
    "\n",
    "\n",
    "\n",
    "<img alt=\"\" src=\"figures/Kiev/hist_lang_choice_weighted_sample_followers.png\" />"
   ]
  },
  {
   "cell_type": "markdown",
   "metadata": {},
   "source": [
    "## Comparison of language choice in public transport in Kiev and Barcelona\n",
    "\n",
    "It would be interesting to attempt a comparison of the relative strength of the minority languages in both cities. In order to do this, we need samples that can indeed be comparable. One possibility would be the comparison of the weighted average sample, even though it is complex to come up with really equivalent samples from a selection of accounts. Another possibility would be to compare followers from accounts that are equivalent : the public transportation system being a natural choice, with the advantage that both are written in the corresponding minority language of the city.\n",
    "\n",
    "The __@TMB_Barcelona__ and __@kyivmetroalerts__ accounts are probably the most informative of all accounts from a linguistic viewpoint, because public transport is tipically one of the few places in a city where large amounts of people from different backgrounds and places come together. Since we expect its followers to be, if certainly not a random one, at least a representative sample of its users, this account should provide a good linguistic summary of the city. \n",
    "\n",
    "In Spain, Twitter is currently the 6th most popular website, whereas in Ukraine it is only the [28th](https://www.similarweb.com/top-websites/ukraine)\n",
    "\n",
    "Catalan and Ukrainian are both used less than 10% of the times by half of the sampled users. In this respect, the distributions are strikingly similars. But they are different for the other half of users. To start with, Ukranian has a much higher percentage of mostly monolingual accounts than Catalan ( 10% vs 2% ) : is it because of business accounts that prefer to tweet in Ukrainian to comply with commercial laws or rather due to a higher degree of linguistic commitment?\n",
    "\n",
    "<img alt=\"\" src=\"figures/Kiev/Language choice distributions from followers of @TMB_Barcelona, @kyivmetroalerts accounts.png\"/>\n",
    "\n",
    "Russian, Spanish\n",
    "\n",
    "From the Spanish language perspective, the interval with the highest frequency is that with more than 95% of tweets written in Spanish. From the Catalan perspective, the interval with the highest frequency is that with less than 5% of tweets written in Catalan ( with a frequency 3 times higher than that of the second higher frequency interval - the adjacent one ). \n",
    "The cumulative histogram shows how approximately half of the followers write less than 10% of their tweets in Catalan, and less than 20% of followers write the majority of their tweets in Catalan. The cumulative curve for Spanish shows that half of the followers write more than 70% of their content in Spanish, and 70% of followers tweet mostly in Spanish"
   ]
  },
  {
   "cell_type": "code",
   "execution_count": null,
   "metadata": {
    "collapsed": true
   },
   "outputs": [],
   "source": []
  }
 ],
 "metadata": {
  "kernelspec": {
   "display_name": "Python 3",
   "language": "python",
   "name": "python3"
  },
  "language_info": {
   "codemirror_mode": {
    "name": "ipython",
    "version": 3
   },
   "file_extension": ".py",
   "mimetype": "text/x-python",
   "name": "python",
   "nbconvert_exporter": "python",
   "pygments_lexer": "ipython3",
   "version": "3.5.3"
  }
 },
 "nbformat": 4,
 "nbformat_minor": 2
}
